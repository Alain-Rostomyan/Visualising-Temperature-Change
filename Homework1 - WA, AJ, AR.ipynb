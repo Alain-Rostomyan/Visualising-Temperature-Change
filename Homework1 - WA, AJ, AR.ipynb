{
 "cells": [
  {
   "cell_type": "markdown",
   "id": "4ddcee82",
   "metadata": {},
   "source": [
    "# Homework #1 - Walid Ajbar, Arya Jakkli, Alen Rostomyan"
   ]
  },
  {
   "cell_type": "markdown",
   "id": "0797794b",
   "metadata": {},
   "source": [
    "##### This notebook analyses two datasets to obtain a visual representation of the evolution of the global surface temperature of the earth as a set of colour stripes."
   ]
  },
  {
   "cell_type": "markdown",
   "id": "3465944f",
   "metadata": {},
   "source": [
    "### Data set\n",
    "Two CSV files, NoMon.csv for the northern hemisphere, SoMon.csv for the southern hemisphere are deposited in the same directory as the notebook\\\n",
    "Column A is the  month, column B is the temperature anomaly in °C (difference between the world's average surface temperature for the month and the average surface temperature in 1961-1990.) Columns C and D are the lower and upper boundaries of the confidence interval and are not used here."
   ]
  },
  {
   "cell_type": "markdown",
   "metadata": {},
   "source": [
    "#### Loading packages"
   ]
  },
  {
   "cell_type": "code",
   "execution_count": 1,
   "id": "71539434",
   "metadata": {},
   "outputs": [],
   "source": [
    "# Relevant packages\n",
    "import matplotlib.pyplot as plt\n",
    "import pandas as pd"
   ]
  },
  {
   "cell_type": "markdown",
   "id": "876144e0",
   "metadata": {},
   "source": [
    "### Loading and Processing Data"
   ]
  },
  {
   "cell_type": "markdown",
   "id": "0c33717a",
   "metadata": {},
   "source": [
    "#### Loading the two datasets and checking for missing or incorrect data"
   ]
  },
  {
   "cell_type": "code",
   "execution_count": 2,
   "id": "4b53c1fd",
   "metadata": {},
   "outputs": [
    {
     "name": "stdout",
     "output_type": "stream",
     "text": [
      "Time               0\n",
      "Anomaly (deg C)    0\n",
      "dtype: int64\n",
      "Time               0\n",
      "Anomaly (deg C)    0\n",
      "dtype: int64\n"
     ]
    }
   ],
   "source": [
    "# Loading data\n",
    "north_data = pd.read_csv('NoMon.csv')\n",
    "south_data = pd.read_csv('SoMon.csv')\n",
    "\n",
    "# Drop unused data\n",
    "useful_columns = ['Time', 'Anomaly (deg C)']\n",
    "\n",
    "north_data = north_data[useful_columns]\n",
    "south_data = south_data[useful_columns]\n",
    "\n",
    "# Check for missing values\n",
    "print(north_data.isnull().sum())\n",
    "print(south_data.isnull().sum())\n",
    "\n"
   ]
  },
  {
   "cell_type": "markdown",
   "id": "9e03b30c",
   "metadata": {},
   "source": [
    "### Combining the Data to Obtain a Global Average Temperature Anomaly for each year from 1850-2023"
   ]
  },
  {
   "cell_type": "code",
   "execution_count": 3,
   "id": "aeb81103",
   "metadata": {},
   "outputs": [
    {
     "data": {
      "text/html": [
       "<div>\n",
       "<style scoped>\n",
       "    .dataframe tbody tr th:only-of-type {\n",
       "        vertical-align: middle;\n",
       "    }\n",
       "\n",
       "    .dataframe tbody tr th {\n",
       "        vertical-align: top;\n",
       "    }\n",
       "\n",
       "    .dataframe thead th {\n",
       "        text-align: right;\n",
       "    }\n",
       "</style>\n",
       "<table border=\"1\" class=\"dataframe\">\n",
       "  <thead>\n",
       "    <tr style=\"text-align: right;\">\n",
       "      <th></th>\n",
       "      <th>Year</th>\n",
       "      <th>Anomaly (deg C)_north</th>\n",
       "      <th>Anomaly (deg C)_south</th>\n",
       "      <th>GlobalAverageAnomaly</th>\n",
       "    </tr>\n",
       "  </thead>\n",
       "  <tbody>\n",
       "    <tr>\n",
       "      <th>0</th>\n",
       "      <td>1850</td>\n",
       "      <td>-0.435896</td>\n",
       "      <td>-0.399526</td>\n",
       "      <td>-0.417711</td>\n",
       "    </tr>\n",
       "    <tr>\n",
       "      <th>1</th>\n",
       "      <td>1851</td>\n",
       "      <td>-0.219249</td>\n",
       "      <td>-0.247451</td>\n",
       "      <td>-0.233350</td>\n",
       "    </tr>\n",
       "    <tr>\n",
       "      <th>2</th>\n",
       "      <td>1852</td>\n",
       "      <td>-0.235702</td>\n",
       "      <td>-0.223096</td>\n",
       "      <td>-0.229399</td>\n",
       "    </tr>\n",
       "    <tr>\n",
       "      <th>3</th>\n",
       "      <td>1853</td>\n",
       "      <td>-0.245392</td>\n",
       "      <td>-0.295317</td>\n",
       "      <td>-0.270354</td>\n",
       "    </tr>\n",
       "    <tr>\n",
       "      <th>4</th>\n",
       "      <td>1854</td>\n",
       "      <td>-0.174690</td>\n",
       "      <td>-0.408352</td>\n",
       "      <td>-0.291521</td>\n",
       "    </tr>\n",
       "  </tbody>\n",
       "</table>\n",
       "</div>"
      ],
      "text/plain": [
       "   Year  Anomaly (deg C)_north  Anomaly (deg C)_south  GlobalAverageAnomaly\n",
       "0  1850              -0.435896              -0.399526             -0.417711\n",
       "1  1851              -0.219249              -0.247451             -0.233350\n",
       "2  1852              -0.235702              -0.223096             -0.229399\n",
       "3  1853              -0.245392              -0.295317             -0.270354\n",
       "4  1854              -0.174690              -0.408352             -0.291521"
      ]
     },
     "execution_count": 3,
     "metadata": {},
     "output_type": "execute_result"
    }
   ],
   "source": [
    "# Extract the year from the 'Month' column\n",
    "north_data['Year'] = pd.to_datetime(north_data['Time']).dt.year\n",
    "south_data['Year'] = pd.to_datetime(south_data['Time']).dt.year\n",
    "\n",
    "# Group by year and calculate the mean temperature anomaly for each year\n",
    "northern_yearly_avg = north_data.groupby('Year')['Anomaly (deg C)'].mean().reset_index()\n",
    "southern_yearly_avg = south_data.groupby('Year')['Anomaly (deg C)'].mean().reset_index()\n",
    "\n",
    "# Merge the two dataframes on 'Year' and calculate the global average temperature anomaly\n",
    "global_yearly_avg = pd.merge(northern_yearly_avg, southern_yearly_avg, on='Year', suffixes=('_north', '_south'))\n",
    "\n",
    "# Calculate the global average temperature anomaly for each year\n",
    "global_yearly_avg['GlobalAverageAnomaly'] = (global_yearly_avg['Anomaly (deg C)_north'] + global_yearly_avg['Anomaly (deg C)_south']) / 2\n",
    "\n",
    "# Display the result (global average temperature anomalies for each year)\n",
    "global_yearly_avg.head()"
   ]
  },
  {
   "cell_type": "markdown",
   "id": "91363f10",
   "metadata": {},
   "source": [
    "### Converting Input Temperature Anomalies into Corresponding Colour Codes"
   ]
  },
  {
   "cell_type": "markdown",
   "id": "4d785714",
   "metadata": {},
   "source": [
    "#### Establishing a Colour Palette"
   ]
  },
  {
   "cell_type": "code",
   "execution_count": 4,
   "id": "5838a9f6",
   "metadata": {},
   "outputs": [],
   "source": [
    "palette = ['#000759', '#020b6b', '#0c189c', '#1523c0', '#1a2be9', '#1e30fb', '#1e54fb', '#1e71fb', '#1e91fb', '#1eb2fb', \n",
    "           '#ff779b', '#f45672', '#ec3656', '#ea1e42', '#e21035', '#d50227', '#cc0113', '#b90111', '#a50110', '#8c010d']"
   ]
  },
  {
   "cell_type": "markdown",
   "id": "ed5cf25b",
   "metadata": {},
   "source": [
    "#### Function for Converting Temperature Anomaly into Corresponding Colour Code"
   ]
  },
  {
   "cell_type": "code",
   "execution_count": 5,
   "id": "717374fc",
   "metadata": {},
   "outputs": [
    {
     "name": "stdout",
     "output_type": "stream",
     "text": [
      "-0.5975110558333333\n",
      "1.1808074808333333\n"
     ]
    }
   ],
   "source": [
    "min_temp_anomaly = min(global_yearly_avg['GlobalAverageAnomaly'])\n",
    "max_temp_anomaly = max(global_yearly_avg['GlobalAverageAnomaly'])\n",
    "\n",
    "print(min_temp_anomaly)\n",
    "print(max_temp_anomaly)\n",
    "\n",
    "def temperature_to_colour(anomaly, palette): \n",
    "    ### Takes a temperature anomaly value and the colour palette and returns the corresponding colour code\n",
    "\n",
    "    # Ensure that the anomaly is within the min-max range\n",
    "    anomaly = max(min_temp_anomaly, min(max_temp_anomaly, anomaly))\n",
    "    \n",
    "    # Normalise the anomaly between 0 and 1\n",
    "    normalised_anomaly = (anomaly - min_temp_anomaly) / (max_temp_anomaly - min_temp_anomaly)\n",
    "    \n",
    "    # Scale the normalized anomaly to the size of the palette\n",
    "    palette_index = int(normalised_anomaly * (len(palette) - 1))\n",
    "    \n",
    "    # Return the corresponding colour code from the palette\n",
    "    return palette[palette_index]\n"
   ]
  },
  {
   "cell_type": "markdown",
   "id": "fa20035e",
   "metadata": {},
   "source": [
    "### Plotting the Combined Dataset as a Stripes Representation"
   ]
  },
  {
   "cell_type": "code",
   "execution_count": 6,
   "id": "98d7ed33",
   "metadata": {
    "scrolled": true
   },
   "outputs": [
    {
     "data": {
      "image/png": "[encoded data removed]",
      "text/plain": [
       "<Figure size 1200x800 with 1 Axes>"
      ]
     },
     "metadata": {},
     "output_type": "display_data"
    }
   ],
   "source": [
    "# Create a list of colours corresponding to each year's temperature anomaly\n",
    "colours = [temperature_to_colour(temp, palette) for temp in global_yearly_avg['GlobalAverageAnomaly']]\n",
    "\n",
    "# Plot the stripes\n",
    "plt.figure(figsize=(12, 8))  # Create a wide and short figure for stripe plot\n",
    "\n",
    "# Plot each year as a stripe (vertical bar)\n",
    "for i, year in enumerate(global_yearly_avg['Year']):\n",
    "    plt.axvline(x=year, color=colours[i], linewidth=5)  # Draw a vertical line for each year\n",
    "\n",
    "# Adjust x-axis to display years correctly\n",
    "plt.xlim(global_yearly_avg['Year'].min(), global_yearly_avg['Year'].max())\n",
    "plt.xticks(rotation=45)\n",
    "\n",
    "# Display axis labels\n",
    "plt.xlabel('Year')\n",
    "plt.ylabel('Temperature Anomaly (°C)')\n",
    "\n",
    "# Remove y-axis and ticks to give a cleaner look\n",
    "plt.gca().yaxis.set_visible(False)\n",
    "plt.gca().tick_params(axis='y', which='both', length=0)\n",
    "\n",
    "# Show the plot\n",
    "plt.tight_layout()\n",
    "plt.show()"
   ]
  }
 ],
 "metadata": {
  "kernelspec": {
   "display_name": "Python 3 (ipykernel)",
   "language": "python",
   "name": "python3"
  },
  "language_info": {
   "codemirror_mode": {
    "name": "ipython",
    "version": 3
   },
   "file_extension": ".py",
   "mimetype": "text/x-python",
   "name": "python",
   "nbconvert_exporter": "python",
   "pygments_lexer": "ipython3",
   "version": "3.11.9"
  }
 },
 "nbformat": 4,
 "nbformat_minor": 5
}
